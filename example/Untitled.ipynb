{
 "cells": [
  {
   "cell_type": "markdown",
   "metadata": {},
   "source": [
    "# vecPy Example:\n",
    "\n",
    "This notebook shows an example of how one can use vecpy in order to load manipulate and display analyzed PIV data. "
   ]
  },
  {
   "cell_type": "markdown",
   "metadata": {},
   "source": [
    "### step 1 - import vecpy \n",
    "\n",
    "here we import the package code so that we can use it next "
   ]
  },
  {
   "cell_type": "code",
   "execution_count": 1,
   "metadata": {
    "collapsed": false
   },
   "outputs": [],
   "source": [
    "import os, sys \n",
    "sys.path.append(os.path.abspath('../'))\n",
    "\n",
    "from vecPy import Vec\n",
    "import loadVec\n",
    "import vecPlot"
   ]
  },
  {
   "cell_type": "markdown",
   "metadata": {},
   "source": [
    "### step 2 - Load the tests data"
   ]
  },
  {
   "cell_type": "code",
   "execution_count": 2,
   "metadata": {
    "collapsed": false
   },
   "outputs": [
    {
     "data": {
      "text/plain": [
       "[<vecPy.vecPy.Vec instance at 0x7f703fe64128>,\n",
       " <vecPy.vecPy.Vec instance at 0x7f703fe67c20>,\n",
       " <vecPy.vecPy.Vec instance at 0x7f703fe62e60>]"
      ]
     },
     "execution_count": 2,
     "metadata": {},
     "output_type": "execute_result"
    }
   ],
   "source": [
    "# pointer to the directory with the data\n",
    "path_to_data = os.path.abspath('../tests/data/')\n",
    "\n",
    "# get a list of files with the proper extention (in this case \".vec\"). in our case 3 files are enough.\n",
    "file_names = sorted(loadVec.read_directory(path_to_data))[:3]\n",
    "\n",
    "# load the data into the memory so we can start manipulating it\n",
    "loadVec.getVecList(path_to_data, fnames = file_names)"
   ]
  },
  {
   "cell_type": "code",
   "execution_count": null,
   "metadata": {
    "collapsed": true
   },
   "outputs": [],
   "source": []
  }
 ],
 "metadata": {
  "anaconda-cloud": {},
  "kernelspec": {
   "display_name": "Python [conda root]",
   "language": "python",
   "name": "conda-root-py"
  },
  "language_info": {
   "codemirror_mode": {
    "name": "ipython",
    "version": 2
   },
   "file_extension": ".py",
   "mimetype": "text/x-python",
   "name": "python",
   "nbconvert_exporter": "python",
   "pygments_lexer": "ipython2",
   "version": "2.7.12"
  }
 },
 "nbformat": 4,
 "nbformat_minor": 1
}
